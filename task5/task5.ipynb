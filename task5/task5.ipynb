{
 "cells": [
  {
   "cell_type": "code",
   "execution_count": 12,
   "metadata": {
    "collapsed": true
   },
   "outputs": [],
   "source": [
    "import pandas as pd\n",
    "import numpy as np\n",
    "import warnings\n",
    "import matplotlib.pyplot as plt\n",
    "import warnings\n",
    "warnings.filterwarnings('ignore')"
   ]
  },
  {
   "cell_type": "code",
   "execution_count": 13,
   "metadata": {},
   "outputs": [
    {
     "name": "stdout",
     "output_type": "stream",
     "text": [
      "data.csv             \u001b[34mtask2\u001b[m\u001b[m/               \u001b[34mtask5\u001b[m\u001b[m/\r\n",
      "data_preprocess.csv  \u001b[34mtask3\u001b[m\u001b[m/               test.csv\r\n",
      "\u001b[34mtask1\u001b[m\u001b[m/               \u001b[34mtask4\u001b[m\u001b[m/               train.csv\r\n"
     ]
    }
   ],
   "source": [
    "%ls ../"
   ]
  },
  {
   "cell_type": "code",
   "execution_count": 14,
   "metadata": {},
   "outputs": [],
   "source": [
    "data = pd.read_csv('../data_preprocess.csv')"
   ]
  },
  {
   "cell_type": "code",
   "execution_count": 15,
   "metadata": {},
   "outputs": [
    {
     "data": {
      "text/html": [
       "<div>\n",
       "<style scoped>\n",
       "    .dataframe tbody tr th:only-of-type {\n",
       "        vertical-align: middle;\n",
       "    }\n",
       "\n",
       "    .dataframe tbody tr th {\n",
       "        vertical-align: top;\n",
       "    }\n",
       "\n",
       "    .dataframe thead th {\n",
       "        text-align: right;\n",
       "    }\n",
       "</style>\n",
       "<table border=\"1\" class=\"dataframe\">\n",
       "  <thead>\n",
       "    <tr style=\"text-align: right;\">\n",
       "      <th></th>\n",
       "      <th>regional_mobility</th>\n",
       "      <th>is_high_user</th>\n",
       "      <th>avg_consume_less_12_valid_month</th>\n",
       "      <th>reg_preference_for_trad</th>\n",
       "      <th>status</th>\n",
       "      <th>low_volume_percent</th>\n",
       "      <th>middle_volume_percent</th>\n",
       "      <th>take_amount_in_later_12_month_highest</th>\n",
       "      <th>trans_amount_increase_rate_lately</th>\n",
       "      <th>trans_activity_month</th>\n",
       "      <th>...</th>\n",
       "      <th>loans_max_limit</th>\n",
       "      <th>loans_avg_limit</th>\n",
       "      <th>consfin_credit_limit</th>\n",
       "      <th>consfin_credibility</th>\n",
       "      <th>consfin_org_count_current</th>\n",
       "      <th>consfin_product_count</th>\n",
       "      <th>consfin_max_limit</th>\n",
       "      <th>consfin_avg_limit</th>\n",
       "      <th>latest_query_day</th>\n",
       "      <th>first_transaction_day_</th>\n",
       "    </tr>\n",
       "  </thead>\n",
       "  <tbody>\n",
       "    <tr>\n",
       "      <th>0</th>\n",
       "      <td>3.0</td>\n",
       "      <td>0.0</td>\n",
       "      <td>7.0</td>\n",
       "      <td>1.0</td>\n",
       "      <td>1.0</td>\n",
       "      <td>0.01</td>\n",
       "      <td>0.99</td>\n",
       "      <td>0.0</td>\n",
       "      <td>0.90</td>\n",
       "      <td>0.55</td>\n",
       "      <td>...</td>\n",
       "      <td>2900.0</td>\n",
       "      <td>1688.0</td>\n",
       "      <td>1200.0</td>\n",
       "      <td>75.0</td>\n",
       "      <td>1.0</td>\n",
       "      <td>2.0</td>\n",
       "      <td>1200.0</td>\n",
       "      <td>1200.0</td>\n",
       "      <td>12.0</td>\n",
       "      <td>17657.0</td>\n",
       "    </tr>\n",
       "    <tr>\n",
       "      <th>1</th>\n",
       "      <td>4.0</td>\n",
       "      <td>0.0</td>\n",
       "      <td>5.0</td>\n",
       "      <td>1.0</td>\n",
       "      <td>0.0</td>\n",
       "      <td>0.02</td>\n",
       "      <td>0.94</td>\n",
       "      <td>2000.0</td>\n",
       "      <td>1.28</td>\n",
       "      <td>1.00</td>\n",
       "      <td>...</td>\n",
       "      <td>3500.0</td>\n",
       "      <td>1758.0</td>\n",
       "      <td>15100.0</td>\n",
       "      <td>80.0</td>\n",
       "      <td>5.0</td>\n",
       "      <td>6.0</td>\n",
       "      <td>22800.0</td>\n",
       "      <td>9360.0</td>\n",
       "      <td>4.0</td>\n",
       "      <td>17657.0</td>\n",
       "    </tr>\n",
       "    <tr>\n",
       "      <th>2</th>\n",
       "      <td>1.0</td>\n",
       "      <td>0.0</td>\n",
       "      <td>5.0</td>\n",
       "      <td>1.0</td>\n",
       "      <td>1.0</td>\n",
       "      <td>0.04</td>\n",
       "      <td>0.96</td>\n",
       "      <td>0.0</td>\n",
       "      <td>1.00</td>\n",
       "      <td>1.00</td>\n",
       "      <td>...</td>\n",
       "      <td>1600.0</td>\n",
       "      <td>1250.0</td>\n",
       "      <td>4200.0</td>\n",
       "      <td>87.0</td>\n",
       "      <td>1.0</td>\n",
       "      <td>1.0</td>\n",
       "      <td>4200.0</td>\n",
       "      <td>4200.0</td>\n",
       "      <td>2.0</td>\n",
       "      <td>17657.0</td>\n",
       "    </tr>\n",
       "    <tr>\n",
       "      <th>3</th>\n",
       "      <td>3.0</td>\n",
       "      <td>0.0</td>\n",
       "      <td>7.0</td>\n",
       "      <td>3.0</td>\n",
       "      <td>0.0</td>\n",
       "      <td>0.00</td>\n",
       "      <td>0.96</td>\n",
       "      <td>2000.0</td>\n",
       "      <td>0.13</td>\n",
       "      <td>0.57</td>\n",
       "      <td>...</td>\n",
       "      <td>3200.0</td>\n",
       "      <td>1541.0</td>\n",
       "      <td>16300.0</td>\n",
       "      <td>80.0</td>\n",
       "      <td>5.0</td>\n",
       "      <td>5.0</td>\n",
       "      <td>30000.0</td>\n",
       "      <td>12180.0</td>\n",
       "      <td>2.0</td>\n",
       "      <td>17657.0</td>\n",
       "    </tr>\n",
       "    <tr>\n",
       "      <th>4</th>\n",
       "      <td>1.0</td>\n",
       "      <td>0.0</td>\n",
       "      <td>6.0</td>\n",
       "      <td>1.0</td>\n",
       "      <td>1.0</td>\n",
       "      <td>0.01</td>\n",
       "      <td>0.99</td>\n",
       "      <td>0.0</td>\n",
       "      <td>0.46</td>\n",
       "      <td>1.00</td>\n",
       "      <td>...</td>\n",
       "      <td>2300.0</td>\n",
       "      <td>1630.0</td>\n",
       "      <td>8300.0</td>\n",
       "      <td>79.0</td>\n",
       "      <td>2.0</td>\n",
       "      <td>2.0</td>\n",
       "      <td>8400.0</td>\n",
       "      <td>8250.0</td>\n",
       "      <td>22.0</td>\n",
       "      <td>17657.0</td>\n",
       "    </tr>\n",
       "  </tbody>\n",
       "</table>\n",
       "<p>5 rows × 79 columns</p>\n",
       "</div>"
      ],
      "text/plain": [
       "   regional_mobility  is_high_user  avg_consume_less_12_valid_month  \\\n",
       "0                3.0           0.0                              7.0   \n",
       "1                4.0           0.0                              5.0   \n",
       "2                1.0           0.0                              5.0   \n",
       "3                3.0           0.0                              7.0   \n",
       "4                1.0           0.0                              6.0   \n",
       "\n",
       "   reg_preference_for_trad  status  low_volume_percent  middle_volume_percent  \\\n",
       "0                      1.0     1.0                0.01                   0.99   \n",
       "1                      1.0     0.0                0.02                   0.94   \n",
       "2                      1.0     1.0                0.04                   0.96   \n",
       "3                      3.0     0.0                0.00                   0.96   \n",
       "4                      1.0     1.0                0.01                   0.99   \n",
       "\n",
       "   take_amount_in_later_12_month_highest  trans_amount_increase_rate_lately  \\\n",
       "0                                    0.0                               0.90   \n",
       "1                                 2000.0                               1.28   \n",
       "2                                    0.0                               1.00   \n",
       "3                                 2000.0                               0.13   \n",
       "4                                    0.0                               0.46   \n",
       "\n",
       "   trans_activity_month  ...  loans_max_limit  loans_avg_limit  \\\n",
       "0                  0.55  ...           2900.0           1688.0   \n",
       "1                  1.00  ...           3500.0           1758.0   \n",
       "2                  1.00  ...           1600.0           1250.0   \n",
       "3                  0.57  ...           3200.0           1541.0   \n",
       "4                  1.00  ...           2300.0           1630.0   \n",
       "\n",
       "   consfin_credit_limit  consfin_credibility  consfin_org_count_current  \\\n",
       "0                1200.0                 75.0                        1.0   \n",
       "1               15100.0                 80.0                        5.0   \n",
       "2                4200.0                 87.0                        1.0   \n",
       "3               16300.0                 80.0                        5.0   \n",
       "4                8300.0                 79.0                        2.0   \n",
       "\n",
       "   consfin_product_count  consfin_max_limit  consfin_avg_limit  \\\n",
       "0                    2.0             1200.0             1200.0   \n",
       "1                    6.0            22800.0             9360.0   \n",
       "2                    1.0             4200.0             4200.0   \n",
       "3                    5.0            30000.0            12180.0   \n",
       "4                    2.0             8400.0             8250.0   \n",
       "\n",
       "   latest_query_day  first_transaction_day_  \n",
       "0              12.0                 17657.0  \n",
       "1               4.0                 17657.0  \n",
       "2               2.0                 17657.0  \n",
       "3               2.0                 17657.0  \n",
       "4              22.0                 17657.0  \n",
       "\n",
       "[5 rows x 79 columns]"
      ]
     },
     "execution_count": 15,
     "metadata": {},
     "output_type": "execute_result"
    }
   ],
   "source": [
    "data.head()"
   ]
  },
  {
   "cell_type": "code",
   "execution_count": 16,
   "metadata": {},
   "outputs": [
    {
     "name": "stdout",
     "output_type": "stream",
     "text": [
      "<class 'pandas.core.frame.DataFrame'>\n",
      "RangeIndex: 4752 entries, 0 to 4751\n",
      "Data columns (total 79 columns):\n",
      "regional_mobility                             4752 non-null float64\n",
      "is_high_user                                  4752 non-null float64\n",
      "avg_consume_less_12_valid_month               4752 non-null float64\n",
      "reg_preference_for_trad                       4752 non-null float64\n",
      "status                                        4752 non-null float64\n",
      "low_volume_percent                            4752 non-null float64\n",
      "middle_volume_percent                         4752 non-null float64\n",
      "take_amount_in_later_12_month_highest         4752 non-null float64\n",
      "trans_amount_increase_rate_lately             4752 non-null float64\n",
      "trans_activity_month                          4752 non-null float64\n",
      "trans_activity_day                            4752 non-null float64\n",
      "transd_mcc                                    4752 non-null float64\n",
      "trans_days_interval_filter                    4752 non-null float64\n",
      "trans_days_interval                           4752 non-null float64\n",
      "repayment_capability                          4752 non-null float64\n",
      "number_of_trans_from_2011                     4752 non-null float64\n",
      "historical_trans_amount                       4752 non-null float64\n",
      "historical_trans_day                          4752 non-null float64\n",
      "rank_trad_1_month                             4752 non-null float64\n",
      "trans_amount_3_month                          4752 non-null float64\n",
      "abs                                           4752 non-null float64\n",
      "top_trans_count_last_1_month                  4752 non-null float64\n",
      "avg_price_last_12_month                       4752 non-null float64\n",
      "avg_price_top_last_12_valid_month             4752 non-null float64\n",
      "trans_top_time_last_1_month                   4752 non-null float64\n",
      "trans_top_time_last_6_month                   4752 non-null float64\n",
      "consume_top_time_last_1_month                 4752 non-null float64\n",
      "consume_top_time_last_6_month                 4752 non-null float64\n",
      "cross_consume_count_last_1_month              4752 non-null float64\n",
      "trans_fail_top_count_enum_last_1_month        4752 non-null float64\n",
      "trans_fail_top_count_enum_last_6_month        4752 non-null float64\n",
      "trans_fail_top_count_enum_last_12_month       4752 non-null float64\n",
      "consume_mini_time_last_1_month                4752 non-null float64\n",
      "max_cumulative_consume_later_1_month          4752 non-null float64\n",
      "max_consume_count_later_6_month               4752 non-null float64\n",
      "railway_consume_count_last_12_month           4752 non-null float64\n",
      "pawns_auctions_trusts_consume_last_1_month    4752 non-null float64\n",
      "pawns_auctions_trusts_consume_last_6_month    4752 non-null float64\n",
      "jewelry_consume_count_last_6_month            4752 non-null float64\n",
      "trans_day_last_12_month                       4752 non-null float64\n",
      "apply_score                                   4752 non-null float64\n",
      "apply_credibility                             4752 non-null float64\n",
      "query_org_count                               4752 non-null float64\n",
      "query_finance_count                           4752 non-null float64\n",
      "query_cash_count                              4752 non-null float64\n",
      "query_sum_count                               4752 non-null float64\n",
      "latest_one_month_apply                        4752 non-null float64\n",
      "latest_three_month_apply                      4752 non-null float64\n",
      "latest_six_month_apply                        4752 non-null float64\n",
      "loans_score                                   4752 non-null float64\n",
      "loans_credibility_behavior                    4752 non-null float64\n",
      "loans_count                                   4752 non-null float64\n",
      "loans_settle_count                            4752 non-null float64\n",
      "loans_overdue_count                           4752 non-null float64\n",
      "loans_org_count_behavior                      4752 non-null float64\n",
      "consfin_org_count_behavior                    4752 non-null float64\n",
      "loans_cash_count                              4752 non-null float64\n",
      "latest_one_month_loan                         4752 non-null float64\n",
      "latest_three_month_loan                       4752 non-null float64\n",
      "latest_six_month_loan                         4752 non-null float64\n",
      "history_suc_fee                               4752 non-null float64\n",
      "history_fail_fee                              4752 non-null float64\n",
      "latest_one_month_suc                          4752 non-null float64\n",
      "latest_one_month_fail                         4752 non-null float64\n",
      "loans_long_time                               4752 non-null float64\n",
      "loans_credit_limit                            4752 non-null float64\n",
      "loans_credibility_limit                       4752 non-null float64\n",
      "loans_org_count_current                       4752 non-null float64\n",
      "loans_product_count                           4752 non-null float64\n",
      "loans_max_limit                               4752 non-null float64\n",
      "loans_avg_limit                               4752 non-null float64\n",
      "consfin_credit_limit                          4752 non-null float64\n",
      "consfin_credibility                           4752 non-null float64\n",
      "consfin_org_count_current                     4752 non-null float64\n",
      "consfin_product_count                         4752 non-null float64\n",
      "consfin_max_limit                             4752 non-null float64\n",
      "consfin_avg_limit                             4752 non-null float64\n",
      "latest_query_day                              4752 non-null float64\n",
      "first_transaction_day_                        4752 non-null float64\n",
      "dtypes: float64(79)\n",
      "memory usage: 2.9 MB\n"
     ]
    }
   ],
   "source": [
    "data.info()"
   ]
  },
  {
   "cell_type": "code",
   "execution_count": 17,
   "metadata": {
    "collapsed": true
   },
   "outputs": [],
   "source": [
    "label = data.status\n",
    "X = data.drop(['status'],axis=1)"
   ]
  },
  {
   "cell_type": "code",
   "execution_count": 18,
   "metadata": {
    "collapsed": true
   },
   "outputs": [],
   "source": [
    "# 消除量纲\n",
    "from sklearn.preprocessing import StandardScaler\n",
    "X = StandardScaler().fit_transform(X)"
   ]
  },
  {
   "cell_type": "code",
   "execution_count": 19,
   "metadata": {},
   "outputs": [],
   "source": [
    "#样本不平衡\n",
    "import imblearn\n",
    "from imblearn.over_sampling import SMOTE\n",
    "X,y =SMOTE().fit_sample(X,label)"
   ]
  },
  {
   "cell_type": "code",
   "execution_count": 20,
   "metadata": {
    "collapsed": true
   },
   "outputs": [],
   "source": [
    "#切分数据集\n",
    "from sklearn.model_selection import train_test_split\n",
    "XTrain,XTest,YTrain,YTest = train_test_split(X,y,test_size=0.3,random_state=2019)"
   ]
  },
  {
   "cell_type": "code",
   "execution_count": null,
   "metadata": {
    "collapsed": true
   },
   "outputs": [],
   "source": [
    "# #参数\n",
    "# lr_param = {\n",
    "#     ''\n",
    "# }"
   ]
  },
  {
   "cell_type": "code",
   "execution_count": 25,
   "metadata": {},
   "outputs": [],
   "source": [
    "from sklearn.linear_model import LogisticRegression\n",
    "from sklearn.svm import SVC\n",
    "from sklearn.tree import DecisionTreeClassifier\n",
    "from sklearn.ensemble import RandomForestClassifier,GradientBoostingClassifier\n",
    "import lightgbm as lgb\n",
    "from xgboost import XGBClassifier\n",
    "from sklearn import metrics"
   ]
  },
  {
   "cell_type": "code",
   "execution_count": 26,
   "metadata": {},
   "outputs": [],
   "source": [
    "lr_model = LogisticRegression()\n",
    "svm_model = SVC(probability=True)\n",
    "dt_model = DecisionTreeClassifier()\n",
    "rf_model = RandomForestClassifier()\n",
    "gbdt_model = GradientBoostingClassifier()\n",
    "xgb_model = XGBClassifier()\n",
    "lgb_model = lgb.LGBMClassifier()"
   ]
  },
  {
   "cell_type": "code",
   "execution_count": 27,
   "metadata": {},
   "outputs": [
    {
     "data": {
      "text/plain": [
       "LogisticRegression(C=1.0, class_weight=None, dual=False, fit_intercept=True,\n",
       "                   intercept_scaling=1, l1_ratio=None, max_iter=100,\n",
       "                   multi_class='warn', n_jobs=None, penalty='l2',\n",
       "                   random_state=None, solver='warn', tol=0.0001, verbose=0,\n",
       "                   warm_start=False)"
      ]
     },
     "execution_count": 27,
     "metadata": {},
     "output_type": "execute_result"
    }
   ],
   "source": [
    "lr_model"
   ]
  },
  {
   "cell_type": "code",
   "execution_count": 28,
   "metadata": {},
   "outputs": [
    {
     "data": {
      "text/plain": [
       "SVC(C=1.0, cache_size=200, class_weight=None, coef0=0.0,\n",
       "    decision_function_shape='ovr', degree=3, gamma='auto_deprecated',\n",
       "    kernel='rbf', max_iter=-1, probability=True, random_state=None,\n",
       "    shrinking=True, tol=0.001, verbose=False)"
      ]
     },
     "execution_count": 28,
     "metadata": {},
     "output_type": "execute_result"
    }
   ],
   "source": [
    "svm_model"
   ]
  },
  {
   "cell_type": "code",
   "execution_count": 29,
   "metadata": {},
   "outputs": [
    {
     "data": {
      "text/plain": [
       "DecisionTreeClassifier(class_weight=None, criterion='gini', max_depth=None,\n",
       "                       max_features=None, max_leaf_nodes=None,\n",
       "                       min_impurity_decrease=0.0, min_impurity_split=None,\n",
       "                       min_samples_leaf=1, min_samples_split=2,\n",
       "                       min_weight_fraction_leaf=0.0, presort=False,\n",
       "                       random_state=None, splitter='best')"
      ]
     },
     "execution_count": 29,
     "metadata": {},
     "output_type": "execute_result"
    }
   ],
   "source": [
    "dt_model"
   ]
  },
  {
   "cell_type": "code",
   "execution_count": 30,
   "metadata": {},
   "outputs": [
    {
     "data": {
      "text/plain": [
       "RandomForestClassifier(bootstrap=True, class_weight=None, criterion='gini',\n",
       "                       max_depth=None, max_features='auto', max_leaf_nodes=None,\n",
       "                       min_impurity_decrease=0.0, min_impurity_split=None,\n",
       "                       min_samples_leaf=1, min_samples_split=2,\n",
       "                       min_weight_fraction_leaf=0.0, n_estimators='warn',\n",
       "                       n_jobs=None, oob_score=False, random_state=None,\n",
       "                       verbose=0, warm_start=False)"
      ]
     },
     "execution_count": 30,
     "metadata": {},
     "output_type": "execute_result"
    }
   ],
   "source": [
    "rf_model"
   ]
  },
  {
   "cell_type": "code",
   "execution_count": 31,
   "metadata": {},
   "outputs": [
    {
     "data": {
      "text/plain": [
       "GradientBoostingClassifier(criterion='friedman_mse', init=None,\n",
       "                           learning_rate=0.1, loss='deviance', max_depth=3,\n",
       "                           max_features=None, max_leaf_nodes=None,\n",
       "                           min_impurity_decrease=0.0, min_impurity_split=None,\n",
       "                           min_samples_leaf=1, min_samples_split=2,\n",
       "                           min_weight_fraction_leaf=0.0, n_estimators=100,\n",
       "                           n_iter_no_change=None, presort='auto',\n",
       "                           random_state=None, subsample=1.0, tol=0.0001,\n",
       "                           validation_fraction=0.1, verbose=0,\n",
       "                           warm_start=False)"
      ]
     },
     "execution_count": 31,
     "metadata": {},
     "output_type": "execute_result"
    }
   ],
   "source": [
    "gbdt_model"
   ]
  },
  {
   "cell_type": "code",
   "execution_count": 32,
   "metadata": {},
   "outputs": [
    {
     "data": {
      "text/plain": [
       "XGBClassifier(base_score=0.5, booster='gbtree', colsample_bylevel=1,\n",
       "              colsample_bynode=1, colsample_bytree=1, gamma=0,\n",
       "              learning_rate=0.1, max_delta_step=0, max_depth=3,\n",
       "              min_child_weight=1, missing=None, n_estimators=100, n_jobs=1,\n",
       "              nthread=None, objective='binary:logistic', random_state=0,\n",
       "              reg_alpha=0, reg_lambda=1, scale_pos_weight=1, seed=None,\n",
       "              silent=None, subsample=1, verbosity=1)"
      ]
     },
     "execution_count": 32,
     "metadata": {},
     "output_type": "execute_result"
    }
   ],
   "source": [
    "xgb_model"
   ]
  },
  {
   "cell_type": "code",
   "execution_count": 33,
   "metadata": {},
   "outputs": [
    {
     "data": {
      "text/plain": [
       "LGBMClassifier(boosting_type='gbdt', class_weight=None, colsample_bytree=1.0,\n",
       "               importance_type='split', learning_rate=0.1, max_depth=-1,\n",
       "               min_child_samples=20, min_child_weight=0.001, min_split_gain=0.0,\n",
       "               n_estimators=100, n_jobs=-1, num_leaves=31, objective=None,\n",
       "               random_state=None, reg_alpha=0.0, reg_lambda=0.0, silent=True,\n",
       "               subsample=1.0, subsample_for_bin=200000, subsample_freq=0)"
      ]
     },
     "execution_count": 33,
     "metadata": {},
     "output_type": "execute_result"
    }
   ],
   "source": [
    "lgb_model"
   ]
  },
  {
   "cell_type": "code",
   "execution_count": null,
   "metadata": {
    "collapsed": true
   },
   "outputs": [],
   "source": []
  }
 ],
 "metadata": {
  "kernelspec": {
   "display_name": "Python 3",
   "language": "python",
   "name": "python3"
  },
  "language_info": {
   "codemirror_mode": {
    "name": "ipython",
    "version": 3
   },
   "file_extension": ".py",
   "mimetype": "text/x-python",
   "name": "python",
   "nbconvert_exporter": "python",
   "pygments_lexer": "ipython3",
   "version": "3.6.2"
  }
 },
 "nbformat": 4,
 "nbformat_minor": 2
}
